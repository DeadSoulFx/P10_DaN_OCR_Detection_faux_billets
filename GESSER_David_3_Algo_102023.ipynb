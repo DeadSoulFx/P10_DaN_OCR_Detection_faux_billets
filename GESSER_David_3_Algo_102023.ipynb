{
 "cells": [
  {
   "cell_type": "markdown",
   "id": "d2fdeafb-a89e-4b3d-aab0-7b0dc20f2e42",
   "metadata": {},
   "source": [
    "# ***Projet 10 - DETECTION DE FAUX BILLETS - PROGRAMME DETECTION***\n"
   ]
  },
  {
   "cell_type": "markdown",
   "id": "0c594333-3872-4d43-ad7d-dba3f17d9aaa",
   "metadata": {},
   "source": [
    "---\n",
    "## Partie 1 - Importation librairies"
   ]
  },
  {
   "cell_type": "markdown",
   "id": "f7bd1f03-5506-41f1-89b4-b09811bc46c3",
   "metadata": {},
   "source": [
    "### 1. Import des librairies et run des fonctions (ok)\n",
    "---"
   ]
  },
  {
   "cell_type": "code",
   "execution_count": 1,
   "id": "adbb98a5-8062-48f4-a398-55ba5614a5e6",
   "metadata": {},
   "outputs": [
    {
     "name": "stdout",
     "output_type": "stream",
     "text": [
      "Librairies utilisées :\n",
      "+-------------------------------------+\n",
      "    Pandas : 2.0.3\n",
      "     Numpy : 1.24.3\n",
      "Matplotlib : 3.7.2\n",
      "   Seaborn : 0.12.2\n",
      "     Spicy : 1.11.1\n",
      "Statmodels : 0.14.0\n",
      "   Sklearn : 1.3.0\n",
      "    JobLib : 1.2.0\n",
      "+-------------------------------------+\n",
      "\n",
      "\n",
      "+--o=      Test run DsFx_fct      =o--+\n",
      "\n",
      "+-------------------------------------+\n",
      "|   Import lib : OK - Loaded          |\n",
      "|      Run fct : OK - Loaded          |\n",
      "+-------------------------------------+\n",
      "                                       \n",
      "_______________________________________\n",
      " _    __    _                          \n",
      "| \\ _|_   _|___|_  o  | _  _  _| _  _| \n",
      "|_/_>|><___|(_ |_  o  |(_)(_|(_|(/_(_| \n",
      " _                                 ... \n",
      "|_) _  _  _|\\/ _|_ _      _ _      ||| \n",
      "| \\(/_(_|(_|/   |_(_) |_|_>(/_     000 \n",
      "_______________________________________\n"
     ]
    }
   ],
   "source": [
    "# Petite fonction pour ne pas afficher les FutureWarning (adaptable selon les warning que l'on veux ou non)\n",
    "import warnings\n",
    "warnings.filterwarnings(action = 'ignore', category=FutureWarning)\n",
    "\n",
    "# Lancement de mon book avec mes fonctions perso\n",
    "# Importe également les librairies nécessaires (une sorte de boite à outil)\n",
    "# %run DsFx_fct.ipynb\n",
    "%run GESSER_David_2_DsFx_fct_102023.ipynb\n",
    "fct_test()\n",
    "fct_load()"
   ]
  },
  {
   "cell_type": "code",
   "execution_count": null,
   "id": "0c6698f8-e4e7-4a67-a6f2-a1e6dcc926ae",
   "metadata": {},
   "outputs": [],
   "source": []
  },
  {
   "cell_type": "code",
   "execution_count": null,
   "id": "a640317f-58b4-48a4-83cd-788d638a27d9",
   "metadata": {},
   "outputs": [],
   "source": []
  },
  {
   "cell_type": "markdown",
   "id": "5da17f03-72d7-44f9-acaf-f1000457c46b",
   "metadata": {},
   "source": [
    "---\n",
    "## Partie 2 - Fonction de détection"
   ]
  },
  {
   "cell_type": "markdown",
   "id": "57ab15de-17e7-4e2f-80aa-9dbcbabe7deb",
   "metadata": {},
   "source": [
    "### 2. Détection\n",
    "---"
   ]
  },
  {
   "cell_type": "code",
   "execution_count": null,
   "id": "427c6776-688d-4d91-a207-cb350314ec2d",
   "metadata": {},
   "outputs": [],
   "source": []
  },
  {
   "cell_type": "code",
   "execution_count": 2,
   "id": "05152d95-80ba-4324-9da9-0bc80e1f7dba",
   "metadata": {},
   "outputs": [
    {
     "name": "stdout",
     "output_type": "stream",
     "text": [
      "Données d'entrée :\n",
      "---------------------------------------------------------------------\n"
     ]
    },
    {
     "data": {
      "text/html": [
       "<div>\n",
       "<style scoped>\n",
       "    .dataframe tbody tr th:only-of-type {\n",
       "        vertical-align: middle;\n",
       "    }\n",
       "\n",
       "    .dataframe tbody tr th {\n",
       "        vertical-align: top;\n",
       "    }\n",
       "\n",
       "    .dataframe thead th {\n",
       "        text-align: right;\n",
       "    }\n",
       "</style>\n",
       "<table border=\"1\" class=\"dataframe\">\n",
       "  <thead>\n",
       "    <tr style=\"text-align: right;\">\n",
       "      <th></th>\n",
       "      <th>diagonal</th>\n",
       "      <th>height_left</th>\n",
       "      <th>height_right</th>\n",
       "      <th>margin_low</th>\n",
       "      <th>margin_up</th>\n",
       "      <th>length</th>\n",
       "      <th>id</th>\n",
       "    </tr>\n",
       "  </thead>\n",
       "  <tbody>\n",
       "    <tr>\n",
       "      <th>0</th>\n",
       "      <td>172.09</td>\n",
       "      <td>103.95</td>\n",
       "      <td>103.73</td>\n",
       "      <td>4.39</td>\n",
       "      <td>3.09</td>\n",
       "      <td>113.19</td>\n",
       "      <td>B_1</td>\n",
       "    </tr>\n",
       "    <tr>\n",
       "      <th>1</th>\n",
       "      <td>171.52</td>\n",
       "      <td>104.17</td>\n",
       "      <td>104.03</td>\n",
       "      <td>5.27</td>\n",
       "      <td>3.16</td>\n",
       "      <td>111.82</td>\n",
       "      <td>B_2</td>\n",
       "    </tr>\n",
       "    <tr>\n",
       "      <th>2</th>\n",
       "      <td>171.78</td>\n",
       "      <td>103.80</td>\n",
       "      <td>103.75</td>\n",
       "      <td>3.81</td>\n",
       "      <td>3.24</td>\n",
       "      <td>113.39</td>\n",
       "      <td>B_3</td>\n",
       "    </tr>\n",
       "    <tr>\n",
       "      <th>3</th>\n",
       "      <td>172.02</td>\n",
       "      <td>104.08</td>\n",
       "      <td>103.99</td>\n",
       "      <td>5.57</td>\n",
       "      <td>3.30</td>\n",
       "      <td>111.10</td>\n",
       "      <td>B_4</td>\n",
       "    </tr>\n",
       "    <tr>\n",
       "      <th>4</th>\n",
       "      <td>171.79</td>\n",
       "      <td>104.34</td>\n",
       "      <td>104.37</td>\n",
       "      <td>5.00</td>\n",
       "      <td>3.07</td>\n",
       "      <td>111.87</td>\n",
       "      <td>B_5</td>\n",
       "    </tr>\n",
       "  </tbody>\n",
       "</table>\n",
       "</div>"
      ],
      "text/plain": [
       "   diagonal  height_left  height_right  margin_low  margin_up  length   id\n",
       "0    172.09       103.95        103.73        4.39       3.09  113.19  B_1\n",
       "1    171.52       104.17        104.03        5.27       3.16  111.82  B_2\n",
       "2    171.78       103.80        103.75        3.81       3.24  113.39  B_3\n",
       "3    172.02       104.08        103.99        5.57       3.30  111.10  B_4\n",
       "4    171.79       104.34        104.37        5.00       3.07  111.87  B_5"
      ]
     },
     "execution_count": 2,
     "metadata": {},
     "output_type": "execute_result"
    }
   ],
   "source": [
    "# Données d'entrées\n",
    "\n",
    "# Indiquer le nom du .csv contenant les billets à tester :\n",
    "df = 'billets_test_02.csv'\n",
    "\n",
    "df_in = pd.read_csv(df, sep = ',') # Vérifier le séparateur utilisé dans le fichier .csv\n",
    "# Visu des billets à analyser\n",
    "print(\"Données d'entrée :\")\n",
    "print('---------------------------------------------------------------------')\n",
    "df_in.head()"
   ]
  },
  {
   "cell_type": "code",
   "execution_count": 8,
   "id": "fcc38ab8-38df-49bb-be38-ea79af641f73",
   "metadata": {},
   "outputs": [],
   "source": [
    "# Fonction de détection de faux billtes\n",
    "\n",
    "def fct_pred_rl(data_in):\n",
    "    # Préparation des données d'entrées et application du modèle\n",
    "    # Pour rappel : 0 = Faux - 1 = Vrai (c'est avec cela quele model_02 a été entrainé)\n",
    "    \n",
    "    # On récupère nos données d'entrées et on set un index\n",
    "    data = data_in.set_index(data_in['id']).copy()\n",
    "    \n",
    "    # On sait que pour ce modèle nous n'avons pas besoin de ces features (observé lors de la préparation du modèle\n",
    "    data.drop(['id', 'diagonal', 'height_left'], axis=1, inplace=True)\n",
    "\n",
    "    # On scale nos données\n",
    "    data = fct_data_scaler(data, scaler_all = True, method = 'standard')\n",
    "    # On charge le model_02 - Regression logistique entrainée sur nos données fournies\n",
    "    model = joblib.load('model_02.joblib')\n",
    "\n",
    "    # On réalise la prédiction sur les billets fournis avec le model pré-entrainer\n",
    "    prediction = model.predict(data)\n",
    "    # display(prediction)\n",
    "    \n",
    "    # Probabilité des résultats en %\n",
    "    proba = pd.DataFrame(model.predict_proba(data)).rename(columns={0: '%_False', 1: '%_True'})\n",
    "    proba = round(proba*100, 4)\n",
    "    # On cale l'index\n",
    "    proba.set_index(data.index, inplace = True)\n",
    "    # display(proba)\n",
    "    \n",
    "    # Préparation du résultat de sortie :\n",
    "    \n",
    "    # On créé une colonne dans notre table en ajoutant les labels calculé par le model\n",
    "    data['pred'] = prediction\n",
    "    # On ajoute les probabilités des prédictions\n",
    "    data = pd.merge(left = data, right = proba, left_index = True, right_index = True)\n",
    "    # On nettoie le df de sortie\n",
    "    df_out = data.drop(['height_right', 'margin_low', 'margin_up', 'length'], axis = 1)\n",
    "    df_out['pred'] = df_out['pred'].map({1 : 'True', 0 : 'False'})\n",
    "    \n",
    "    # Résultats après application du modèle\n",
    "    display(df_out)\n",
    "    \n",
    "    # Modèle utilisé\n",
    "    print('+--------------------------+')\n",
    "    print('')\n",
    "    print('Modèle utilisé :', model)\n",
    "    print('Basé sur les features :', model.feature_names_in_)"
   ]
  },
  {
   "cell_type": "code",
   "execution_count": 9,
   "id": "cdf9a2d2-7e15-49d0-8539-e0f35f983013",
   "metadata": {},
   "outputs": [
    {
     "name": "stdout",
     "output_type": "stream",
     "text": [
      "+--------------------------+\n",
      "|    Résultats obtenus     |\n",
      "+--------------------------+\n"
     ]
    },
    {
     "data": {
      "text/html": [
       "<div>\n",
       "<style scoped>\n",
       "    .dataframe tbody tr th:only-of-type {\n",
       "        vertical-align: middle;\n",
       "    }\n",
       "\n",
       "    .dataframe tbody tr th {\n",
       "        vertical-align: top;\n",
       "    }\n",
       "\n",
       "    .dataframe thead th {\n",
       "        text-align: right;\n",
       "    }\n",
       "</style>\n",
       "<table border=\"1\" class=\"dataframe\">\n",
       "  <thead>\n",
       "    <tr style=\"text-align: right;\">\n",
       "      <th></th>\n",
       "      <th>pred</th>\n",
       "      <th>%_False</th>\n",
       "      <th>%_True</th>\n",
       "    </tr>\n",
       "    <tr>\n",
       "      <th>id</th>\n",
       "      <th></th>\n",
       "      <th></th>\n",
       "      <th></th>\n",
       "    </tr>\n",
       "  </thead>\n",
       "  <tbody>\n",
       "    <tr>\n",
       "      <th>B_1</th>\n",
       "      <td>True</td>\n",
       "      <td>0.0033</td>\n",
       "      <td>99.9967</td>\n",
       "    </tr>\n",
       "    <tr>\n",
       "      <th>B_2</th>\n",
       "      <td>False</td>\n",
       "      <td>88.7294</td>\n",
       "      <td>11.2706</td>\n",
       "    </tr>\n",
       "    <tr>\n",
       "      <th>B_3</th>\n",
       "      <td>True</td>\n",
       "      <td>0.0024</td>\n",
       "      <td>99.9976</td>\n",
       "    </tr>\n",
       "    <tr>\n",
       "      <th>B_4</th>\n",
       "      <td>False</td>\n",
       "      <td>99.9888</td>\n",
       "      <td>0.0112</td>\n",
       "    </tr>\n",
       "    <tr>\n",
       "      <th>B_5</th>\n",
       "      <td>False</td>\n",
       "      <td>56.3882</td>\n",
       "      <td>43.6118</td>\n",
       "    </tr>\n",
       "  </tbody>\n",
       "</table>\n",
       "</div>"
      ],
      "text/plain": [
       "      pred  %_False   %_True\n",
       "id                          \n",
       "B_1   True   0.0033  99.9967\n",
       "B_2  False  88.7294  11.2706\n",
       "B_3   True   0.0024  99.9976\n",
       "B_4  False  99.9888   0.0112\n",
       "B_5  False  56.3882  43.6118"
      ]
     },
     "metadata": {},
     "output_type": "display_data"
    },
    {
     "name": "stdout",
     "output_type": "stream",
     "text": [
      "+--------------------------+\n",
      "\n",
      "Modèle utilisé : LogisticRegression()\n",
      "Basé sur les features : ['height_right' 'margin_low' 'margin_up' 'length']\n"
     ]
    }
   ],
   "source": [
    "# Appel de la fonction de détection et réponse\n",
    "print('+--------------------------+')\n",
    "print('|    Résultats obtenus     |')\n",
    "print('+--------------------------+')\n",
    "fct_pred_rl(df_in)"
   ]
  },
  {
   "cell_type": "markdown",
   "id": "9f3ec400-1334-4cd3-b222-3043ed58b3b5",
   "metadata": {
    "tags": []
   },
   "source": [
    "## Test KMeans (pour comparer)"
   ]
  },
  {
   "cell_type": "raw",
   "id": "74696ce1-ff19-4f29-afbd-55d33bdcd019",
   "metadata": {
    "jupyter": {
     "source_hidden": true
    },
    "tags": []
   },
   "source": [
    "# Pour rappel : 0 = Faux - 1 = Vrai\n",
    "# Le pbs avec Kmeans c'est que parfois les clusters sont inversés donc difficile à prévoirs\n",
    "\n",
    "data = df_in.set_index(df_in[\"id\"])\n",
    "data.drop([\"id\"], axis=1, inplace=True)\n",
    "# On charge le model_03 - KMeans entrainé sur nos données fournies\n",
    "data = fct_data_scaler(data, scaler_all=True, method=\"standard\")\n",
    "model = joblib.load('model_03.joblib')\n",
    "# On selectionne nos données X\n",
    "X = data\n",
    "\n",
    "# On réalise la prédiction sur les billets fournis avec le model pré-entrainer\n",
    "prediction = model.predict(data)\n",
    "# On créé une colonne dans notre table en ajoutant les labels calculé par le model\n",
    "data[\"pred\"] = prediction\n",
    "\n",
    "# Résultats après application du modèle\n",
    "# Faire un mapping sur pred pour que ce soit plus parlant\n",
    "data['pred'] = data['pred'].map({1 : 'True', 0 : 'False'})\n",
    "display(data)\n",
    "\n",
    "print('Modèle utilisé :', model)\n",
    "print('Basé sur les features :', model.feature_names_in_)"
   ]
  },
  {
   "cell_type": "markdown",
   "id": "77dab10a-7370-4c02-b3f1-c1a973618675",
   "metadata": {
    "tags": []
   },
   "source": [
    "## Test KNN (pour comparer)"
   ]
  },
  {
   "cell_type": "raw",
   "id": "5b526f70-6b10-401c-bf9e-a32050a763ec",
   "metadata": {
    "jupyter": {
     "source_hidden": true
    },
    "tags": []
   },
   "source": [
    "data = df_in.set_index(df_in[\"id\"])\n",
    "data.drop([\"id\"], axis=1, inplace=True)\n",
    "# On charge le model_03 - KNN entrainé sur nos données fournies\n",
    "data = fct_data_scaler(data, scaler_all = True, method = \"standard\")\n",
    "model = joblib.load('model_04.joblib')\n",
    "# On selectionne nos données X\n",
    "X = data\n",
    "\n",
    "# On réalise la prédiction sur les billets fournis avec le model pré-entrainer\n",
    "prediction = model.predict(data)\n",
    "# On créé une colonne dans notre table en ajoutant les labels calculé par le model\n",
    "data[\"pred\"] = prediction\n",
    "\n",
    "# Résultats après application du modèle\n",
    "# Faire un mapping sur pred pour que ce soit plus parlant\n",
    "data['pred'] = data['pred'].map({1 : 'True', 0 : 'False'})\n",
    "display(data)\n",
    "\n",
    "print('Modèle utilisé :', model)\n",
    "print('Paramètres :',model.get_params(deep=True))"
   ]
  },
  {
   "cell_type": "code",
   "execution_count": 5,
   "id": "e84fad4a-d8c3-4c55-b7e4-1008e939185d",
   "metadata": {
    "tags": []
   },
   "outputs": [],
   "source": [
    "# Coding by : David GESSER\n",
    "# 28/12/2023"
   ]
  }
 ],
 "metadata": {
  "kernelspec": {
   "display_name": "Python 3 (ipykernel)",
   "language": "python",
   "name": "python3"
  },
  "language_info": {
   "codemirror_mode": {
    "name": "ipython",
    "version": 3
   },
   "file_extension": ".py",
   "mimetype": "text/x-python",
   "name": "python",
   "nbconvert_exporter": "python",
   "pygments_lexer": "ipython3",
   "version": "3.11.5"
  }
 },
 "nbformat": 4,
 "nbformat_minor": 5
}
